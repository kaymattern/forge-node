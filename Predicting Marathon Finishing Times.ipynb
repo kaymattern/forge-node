{
 "cells": [
  {
   "cell_type": "code",
   "execution_count": 23,
   "metadata": {},
   "outputs": [],
   "source": [
    "import pandas as pd\n",
    "import numpy as np\n",
    "import matplotlib.pyplot as plt\n",
    "from datetime import datetime as datetime\n",
    "from sklearn.model_selection import train_test_split\n",
    "from sklearn.linear_model import LogisticRegression\n",
    "from sklearn import preprocessing\n",
    "from sklearn import utils\n",
    "from sklearn.neighbors import KNeighborsClassifier\n",
    "from sklearn.metrics import f1_score, max_error, accuracy_score, completeness_score\n",
    "from sklearn.model_selection import GridSearchCV\n",
    "from sklearn.ensemble import RandomForestClassifier\n",
    "from sklearn.datasets import make_classification\n",
    "import warnings\n",
    "warnings.filterwarnings(\"ignore\")"
   ]
  },
  {
   "cell_type": "code",
   "execution_count": 3,
   "metadata": {},
   "outputs": [
    {
     "data": {
      "text/html": [
       "<div>\n",
       "<style scoped>\n",
       "    .dataframe tbody tr th:only-of-type {\n",
       "        vertical-align: middle;\n",
       "    }\n",
       "\n",
       "    .dataframe tbody tr th {\n",
       "        vertical-align: top;\n",
       "    }\n",
       "\n",
       "    .dataframe thead th {\n",
       "        text-align: right;\n",
       "    }\n",
       "</style>\n",
       "<table border=\"1\" class=\"dataframe\">\n",
       "  <thead>\n",
       "    <tr style=\"text-align: right;\">\n",
       "      <th></th>\n",
       "      <th>Bib</th>\n",
       "      <th>Name</th>\n",
       "      <th>Age</th>\n",
       "      <th>M/F</th>\n",
       "      <th>City</th>\n",
       "      <th>State</th>\n",
       "      <th>Country</th>\n",
       "      <th>5K</th>\n",
       "      <th>10K</th>\n",
       "      <th>15K</th>\n",
       "      <th>20K</th>\n",
       "      <th>Half</th>\n",
       "      <th>25K</th>\n",
       "      <th>30K</th>\n",
       "      <th>35K</th>\n",
       "      <th>40K</th>\n",
       "      <th>Pace</th>\n",
       "      <th>Time</th>\n",
       "      <th>Overall</th>\n",
       "      <th>Gender</th>\n",
       "      <th>Division</th>\n",
       "    </tr>\n",
       "  </thead>\n",
       "  <tbody>\n",
       "    <tr>\n",
       "      <th>0</th>\n",
       "      <td>11</td>\n",
       "      <td>Kirui, Geoffrey</td>\n",
       "      <td>24</td>\n",
       "      <td>M</td>\n",
       "      <td>Keringet</td>\n",
       "      <td>NaN</td>\n",
       "      <td>KEN</td>\n",
       "      <td>0:15:25</td>\n",
       "      <td>0:30:28</td>\n",
       "      <td>0:45:44</td>\n",
       "      <td>1:01:15</td>\n",
       "      <td>1:04:35</td>\n",
       "      <td>1:16:59</td>\n",
       "      <td>1:33:01</td>\n",
       "      <td>1:48:19</td>\n",
       "      <td>2:02:53</td>\n",
       "      <td>0:04:57</td>\n",
       "      <td>2:09:37</td>\n",
       "      <td>1</td>\n",
       "      <td>1</td>\n",
       "      <td>1</td>\n",
       "    </tr>\n",
       "    <tr>\n",
       "      <th>1</th>\n",
       "      <td>17</td>\n",
       "      <td>Rupp, Galen</td>\n",
       "      <td>30</td>\n",
       "      <td>M</td>\n",
       "      <td>Portland</td>\n",
       "      <td>OR</td>\n",
       "      <td>USA</td>\n",
       "      <td>0:15:24</td>\n",
       "      <td>0:30:27</td>\n",
       "      <td>0:45:44</td>\n",
       "      <td>1:01:15</td>\n",
       "      <td>1:04:35</td>\n",
       "      <td>1:16:59</td>\n",
       "      <td>1:33:01</td>\n",
       "      <td>1:48:19</td>\n",
       "      <td>2:03:14</td>\n",
       "      <td>0:04:58</td>\n",
       "      <td>2:09:58</td>\n",
       "      <td>2</td>\n",
       "      <td>2</td>\n",
       "      <td>2</td>\n",
       "    </tr>\n",
       "    <tr>\n",
       "      <th>...</th>\n",
       "      <td>...</td>\n",
       "      <td>...</td>\n",
       "      <td>...</td>\n",
       "      <td>...</td>\n",
       "      <td>...</td>\n",
       "      <td>...</td>\n",
       "      <td>...</td>\n",
       "      <td>...</td>\n",
       "      <td>...</td>\n",
       "      <td>...</td>\n",
       "      <td>...</td>\n",
       "      <td>...</td>\n",
       "      <td>...</td>\n",
       "      <td>...</td>\n",
       "      <td>...</td>\n",
       "      <td>...</td>\n",
       "      <td>...</td>\n",
       "      <td>...</td>\n",
       "      <td>...</td>\n",
       "      <td>...</td>\n",
       "      <td>...</td>\n",
       "    </tr>\n",
       "    <tr>\n",
       "      <th>26408</th>\n",
       "      <td>25268</td>\n",
       "      <td>Reilly, Bill</td>\n",
       "      <td>64</td>\n",
       "      <td>M</td>\n",
       "      <td>New York</td>\n",
       "      <td>NY</td>\n",
       "      <td>USA</td>\n",
       "      <td>0:40:34</td>\n",
       "      <td>1:27:19</td>\n",
       "      <td>2:17:17</td>\n",
       "      <td>3:11:40</td>\n",
       "      <td>3:22:30</td>\n",
       "      <td>4:06:10</td>\n",
       "      <td>5:07:09</td>\n",
       "      <td>6:06:07</td>\n",
       "      <td>6:56:08</td>\n",
       "      <td>0:16:49</td>\n",
       "      <td>7:20:44</td>\n",
       "      <td>26410</td>\n",
       "      <td>14437</td>\n",
       "      <td>1043</td>\n",
       "    </tr>\n",
       "    <tr>\n",
       "      <th>26409</th>\n",
       "      <td>25266</td>\n",
       "      <td>Rigsby, Scott</td>\n",
       "      <td>48</td>\n",
       "      <td>M</td>\n",
       "      <td>Alpharetta</td>\n",
       "      <td>GA</td>\n",
       "      <td>USA</td>\n",
       "      <td>0:39:36</td>\n",
       "      <td>1:17:12</td>\n",
       "      <td>2:00:10</td>\n",
       "      <td>2:58:55</td>\n",
       "      <td>3:08:16</td>\n",
       "      <td>4:27:14</td>\n",
       "      <td>5:37:13</td>\n",
       "      <td>6:39:07</td>\n",
       "      <td>7:41:23</td>\n",
       "      <td>0:18:15</td>\n",
       "      <td>7:58:14</td>\n",
       "      <td>26411</td>\n",
       "      <td>14438</td>\n",
       "      <td>2553</td>\n",
       "    </tr>\n",
       "  </tbody>\n",
       "</table>\n",
       "<p>26410 rows × 21 columns</p>\n",
       "</div>"
      ],
      "text/plain": [
       "         Bib             Name  Age M/F        City State Country       5K  \\\n",
       "0         11  Kirui, Geoffrey   24   M    Keringet   NaN     KEN  0:15:25   \n",
       "1         17      Rupp, Galen   30   M    Portland    OR     USA  0:15:24   \n",
       "...      ...              ...  ...  ..         ...   ...     ...      ...   \n",
       "26408  25268     Reilly, Bill   64   M    New York    NY     USA  0:40:34   \n",
       "26409  25266    Rigsby, Scott   48   M  Alpharetta    GA     USA  0:39:36   \n",
       "\n",
       "           10K      15K      20K     Half      25K      30K      35K      40K  \\\n",
       "0      0:30:28  0:45:44  1:01:15  1:04:35  1:16:59  1:33:01  1:48:19  2:02:53   \n",
       "1      0:30:27  0:45:44  1:01:15  1:04:35  1:16:59  1:33:01  1:48:19  2:03:14   \n",
       "...        ...      ...      ...      ...      ...      ...      ...      ...   \n",
       "26408  1:27:19  2:17:17  3:11:40  3:22:30  4:06:10  5:07:09  6:06:07  6:56:08   \n",
       "26409  1:17:12  2:00:10  2:58:55  3:08:16  4:27:14  5:37:13  6:39:07  7:41:23   \n",
       "\n",
       "          Pace     Time  Overall  Gender  Division  \n",
       "0      0:04:57  2:09:37        1       1         1  \n",
       "1      0:04:58  2:09:58        2       2         2  \n",
       "...        ...      ...      ...     ...       ...  \n",
       "26408  0:16:49  7:20:44    26410   14437      1043  \n",
       "26409  0:18:15  7:58:14    26411   14438      2553  \n",
       "\n",
       "[26410 rows x 21 columns]"
      ]
     },
     "execution_count": 3,
     "metadata": {},
     "output_type": "execute_result"
    }
   ],
   "source": [
    "pd.set_option('display.max_columns', None) ## Code to dsiplay all columns in data frame \n",
    "pd.set_option('display.max_rows', 5) ## Code to determine number of rows displayed in data frame\n",
    "\n",
    "df = pd.read_csv('marathon_results_2017.csv')\n",
    "m1 = df.drop(columns=['Unnamed: 0', 'Unnamed: 9', 'Citizen', 'Proj Time']) ## Remove unnecessary columns\n",
    "m2 = m1.rename(columns={'Official Time': 'Time'})\n",
    "m2"
   ]
  },
  {
   "cell_type": "code",
   "execution_count": 4,
   "metadata": {},
   "outputs": [
    {
     "data": {
      "image/png": "[encoded data removed]",
      "text/plain": [
       "<Figure size 648x432 with 1 Axes>"
      ]
     },
     "metadata": {
      "needs_background": "light"
     },
     "output_type": "display_data"
    },
    {
     "data": {
      "text/plain": [
       "pandas.core.frame.DataFrame"
      ]
     },
     "execution_count": 4,
     "metadata": {},
     "output_type": "execute_result"
    }
   ],
   "source": [
    "## Exploratory data analysis 1\n",
    "\n",
    "## Bar graph shows that the majority of runners are in their late 30s and 40s (peak around 46). \n",
    "## Issue with x-axis (there shouldn't be any values below 18 because youngest runner is 18).\n",
    "## Solved by adding 18 to start the x-axis at the correct value.\n",
    "\n",
    "ages = m2['Age'].value_counts().reset_index()[0:65]\n",
    "ages.columns = ['Age', 'Count']\n",
    "sorted_ages = ages.sort_values(by=['Age'])\n",
    "\n",
    "ind = np.arange(len(ages))\n",
    "\n",
    "plt.figure(figsize=(9, 6))\n",
    "\n",
    "plt.bar(ind+18, sorted_ages.Count)\n",
    "\n",
    "plt.xticks(np.arange(15, 85, step=5))\n",
    "plt.xlabel(\"Age\")\n",
    "\n",
    "plt.ylabel(\"Count of Finishers\")\n",
    "\n",
    "plt.title('2017 Boston Marathon Finishers by Age')\n",
    "\n",
    "plt.show()\n",
    "\n",
    "type(ages)"
   ]
  },
  {
   "cell_type": "code",
   "execution_count": 5,
   "metadata": {},
   "outputs": [],
   "source": [
    "m2 = m2[m2['5K'] != '-']\n",
    "m2['5K']=pd.to_datetime(m2['5K'])\n",
    "m2['5K Min'] = m2['5K'].apply(lambda x: (x.hour*60)+x.minute+(x.second/60))"
   ]
  },
  {
   "cell_type": "code",
   "execution_count": 6,
   "metadata": {},
   "outputs": [],
   "source": [
    "m2 = m2[m2['10K'] != '-']\n",
    "m2['10K']=pd.to_datetime(m2['10K'])\n",
    "m2['10K Min'] = m2['10K'].apply(lambda x: (x.hour*60)+x.minute+(x.second/60))"
   ]
  },
  {
   "cell_type": "code",
   "execution_count": 7,
   "metadata": {},
   "outputs": [],
   "source": [
    "m2 = m2[m2['15K'] != '-']\n",
    "m2['15K']=pd.to_datetime(m2['15K'])\n",
    "m2['15K Min'] = m2['15K'].apply(lambda x: (x.hour*60)+x.minute+(x.second/60))"
   ]
  },
  {
   "cell_type": "code",
   "execution_count": 8,
   "metadata": {},
   "outputs": [],
   "source": [
    "m2 = m2[m2['20K'] != '-']\n",
    "m2['20K']=pd.to_datetime(m2['20K'])\n",
    "m2['20K Min'] = m2['20K'].apply(lambda x: (x.hour*60)+x.minute+(x.second/60))"
   ]
  },
  {
   "cell_type": "code",
   "execution_count": 9,
   "metadata": {},
   "outputs": [],
   "source": [
    "m2 = m2[m2['Half'] != '-']\n",
    "m2['Half']=pd.to_datetime(m2['Half'])\n",
    "m2['Half Min'] = m2['Half'].apply(lambda x: (x.hour*60)+x.minute+(x.second/60))"
   ]
  },
  {
   "cell_type": "code",
   "execution_count": 10,
   "metadata": {},
   "outputs": [],
   "source": [
    "m2 = m2[m2['25K'] != '-']\n",
    "m2['25K']=pd.to_datetime(m2['25K'])\n",
    "m2['25K Min'] = m2['25K'].apply(lambda x: (x.hour*60)+x.minute+(x.second/60))"
   ]
  },
  {
   "cell_type": "code",
   "execution_count": 11,
   "metadata": {},
   "outputs": [],
   "source": [
    "m2 = m2[m2['30K'] != '-']\n",
    "m2['30K']=pd.to_datetime(m2['30K'])\n",
    "m2['30K Min'] = m2['30K'].apply(lambda x: (x.hour*60)+x.minute+(x.second/60))"
   ]
  },
  {
   "cell_type": "code",
   "execution_count": 12,
   "metadata": {},
   "outputs": [],
   "source": [
    "m2 = m2[m2['35K'] != '-']\n",
    "m2['35K']=pd.to_datetime(m2['35K'])\n",
    "m2['35K Min'] = m2['35K'].apply(lambda x: (x.hour*60)+x.minute+(x.second/60))"
   ]
  },
  {
   "cell_type": "code",
   "execution_count": 13,
   "metadata": {},
   "outputs": [],
   "source": [
    "m2 = m2[m2['40K'] != '-']\n",
    "m2['40K']=pd.to_datetime(m2['40K'])\n",
    "m2['40K Min'] = m2['40K'].apply(lambda x: (x.hour*60)+x.minute+(x.second/60))"
   ]
  },
  {
   "cell_type": "code",
   "execution_count": 14,
   "metadata": {},
   "outputs": [],
   "source": [
    "m2 = m2[m2['Pace'] != '-']\n",
    "m2['Pace']=pd.to_datetime(m2['Pace'])\n",
    "m2['Pace Min'] = m2['Pace'].apply(lambda x: (x.hour*60)+x.minute+(x.second/60))"
   ]
  },
  {
   "cell_type": "code",
   "execution_count": 15,
   "metadata": {},
   "outputs": [],
   "source": [
    "m2 = m2[m2['Time'] != '-']\n",
    "m2['Time']=pd.to_datetime(m2['Time'])\n",
    "m2['Time Min'] = m2['Time'].apply(lambda x: (x.hour*60)+x.minute+(x.second/60))"
   ]
  },
  {
   "cell_type": "code",
   "execution_count": 16,
   "metadata": {},
   "outputs": [
    {
     "data": {
      "text/html": [
       "<div>\n",
       "<style scoped>\n",
       "    .dataframe tbody tr th:only-of-type {\n",
       "        vertical-align: middle;\n",
       "    }\n",
       "\n",
       "    .dataframe tbody tr th {\n",
       "        vertical-align: top;\n",
       "    }\n",
       "\n",
       "    .dataframe thead th {\n",
       "        text-align: right;\n",
       "    }\n",
       "</style>\n",
       "<table border=\"1\" class=\"dataframe\">\n",
       "  <thead>\n",
       "    <tr style=\"text-align: right;\">\n",
       "      <th></th>\n",
       "      <th>Bib</th>\n",
       "      <th>Name</th>\n",
       "      <th>Age</th>\n",
       "      <th>M/F</th>\n",
       "      <th>City</th>\n",
       "      <th>State</th>\n",
       "      <th>Country</th>\n",
       "      <th>Overall</th>\n",
       "      <th>Gender</th>\n",
       "      <th>Division</th>\n",
       "      <th>5K Min</th>\n",
       "      <th>10K Min</th>\n",
       "      <th>15K Min</th>\n",
       "      <th>20K Min</th>\n",
       "      <th>Half Min</th>\n",
       "      <th>25K Min</th>\n",
       "      <th>30K Min</th>\n",
       "      <th>35K Min</th>\n",
       "      <th>40K Min</th>\n",
       "      <th>Pace Min</th>\n",
       "      <th>Time Min</th>\n",
       "    </tr>\n",
       "  </thead>\n",
       "  <tbody>\n",
       "    <tr>\n",
       "      <th>0</th>\n",
       "      <td>11</td>\n",
       "      <td>Kirui, Geoffrey</td>\n",
       "      <td>24</td>\n",
       "      <td>M</td>\n",
       "      <td>Keringet</td>\n",
       "      <td>NaN</td>\n",
       "      <td>KEN</td>\n",
       "      <td>1</td>\n",
       "      <td>1</td>\n",
       "      <td>1</td>\n",
       "      <td>15.416667</td>\n",
       "      <td>30.466667</td>\n",
       "      <td>45.733333</td>\n",
       "      <td>61.250000</td>\n",
       "      <td>64.583333</td>\n",
       "      <td>76.983333</td>\n",
       "      <td>93.016667</td>\n",
       "      <td>108.316667</td>\n",
       "      <td>122.883333</td>\n",
       "      <td>4.950000</td>\n",
       "      <td>129.616667</td>\n",
       "    </tr>\n",
       "    <tr>\n",
       "      <th>1</th>\n",
       "      <td>17</td>\n",
       "      <td>Rupp, Galen</td>\n",
       "      <td>30</td>\n",
       "      <td>M</td>\n",
       "      <td>Portland</td>\n",
       "      <td>OR</td>\n",
       "      <td>USA</td>\n",
       "      <td>2</td>\n",
       "      <td>2</td>\n",
       "      <td>2</td>\n",
       "      <td>15.400000</td>\n",
       "      <td>30.450000</td>\n",
       "      <td>45.733333</td>\n",
       "      <td>61.250000</td>\n",
       "      <td>64.583333</td>\n",
       "      <td>76.983333</td>\n",
       "      <td>93.016667</td>\n",
       "      <td>108.316667</td>\n",
       "      <td>123.233333</td>\n",
       "      <td>4.966667</td>\n",
       "      <td>129.966667</td>\n",
       "    </tr>\n",
       "    <tr>\n",
       "      <th>...</th>\n",
       "      <td>...</td>\n",
       "      <td>...</td>\n",
       "      <td>...</td>\n",
       "      <td>...</td>\n",
       "      <td>...</td>\n",
       "      <td>...</td>\n",
       "      <td>...</td>\n",
       "      <td>...</td>\n",
       "      <td>...</td>\n",
       "      <td>...</td>\n",
       "      <td>...</td>\n",
       "      <td>...</td>\n",
       "      <td>...</td>\n",
       "      <td>...</td>\n",
       "      <td>...</td>\n",
       "      <td>...</td>\n",
       "      <td>...</td>\n",
       "      <td>...</td>\n",
       "      <td>...</td>\n",
       "      <td>...</td>\n",
       "      <td>...</td>\n",
       "    </tr>\n",
       "    <tr>\n",
       "      <th>26408</th>\n",
       "      <td>25268</td>\n",
       "      <td>Reilly, Bill</td>\n",
       "      <td>64</td>\n",
       "      <td>M</td>\n",
       "      <td>New York</td>\n",
       "      <td>NY</td>\n",
       "      <td>USA</td>\n",
       "      <td>26410</td>\n",
       "      <td>14437</td>\n",
       "      <td>1043</td>\n",
       "      <td>40.566667</td>\n",
       "      <td>87.316667</td>\n",
       "      <td>137.283333</td>\n",
       "      <td>191.666667</td>\n",
       "      <td>202.500000</td>\n",
       "      <td>246.166667</td>\n",
       "      <td>307.150000</td>\n",
       "      <td>366.116667</td>\n",
       "      <td>416.133333</td>\n",
       "      <td>16.816667</td>\n",
       "      <td>440.733333</td>\n",
       "    </tr>\n",
       "    <tr>\n",
       "      <th>26409</th>\n",
       "      <td>25266</td>\n",
       "      <td>Rigsby, Scott</td>\n",
       "      <td>48</td>\n",
       "      <td>M</td>\n",
       "      <td>Alpharetta</td>\n",
       "      <td>GA</td>\n",
       "      <td>USA</td>\n",
       "      <td>26411</td>\n",
       "      <td>14438</td>\n",
       "      <td>2553</td>\n",
       "      <td>39.600000</td>\n",
       "      <td>77.200000</td>\n",
       "      <td>120.166667</td>\n",
       "      <td>178.916667</td>\n",
       "      <td>188.266667</td>\n",
       "      <td>267.233333</td>\n",
       "      <td>337.216667</td>\n",
       "      <td>399.116667</td>\n",
       "      <td>461.383333</td>\n",
       "      <td>18.250000</td>\n",
       "      <td>478.233333</td>\n",
       "    </tr>\n",
       "  </tbody>\n",
       "</table>\n",
       "<p>26259 rows × 21 columns</p>\n",
       "</div>"
      ],
      "text/plain": [
       "         Bib             Name  Age M/F        City State Country  Overall  \\\n",
       "0         11  Kirui, Geoffrey   24   M    Keringet   NaN     KEN        1   \n",
       "1         17      Rupp, Galen   30   M    Portland    OR     USA        2   \n",
       "...      ...              ...  ...  ..         ...   ...     ...      ...   \n",
       "26408  25268     Reilly, Bill   64   M    New York    NY     USA    26410   \n",
       "26409  25266    Rigsby, Scott   48   M  Alpharetta    GA     USA    26411   \n",
       "\n",
       "       Gender  Division     5K Min    10K Min     15K Min     20K Min  \\\n",
       "0           1         1  15.416667  30.466667   45.733333   61.250000   \n",
       "1           2         2  15.400000  30.450000   45.733333   61.250000   \n",
       "...       ...       ...        ...        ...         ...         ...   \n",
       "26408   14437      1043  40.566667  87.316667  137.283333  191.666667   \n",
       "26409   14438      2553  39.600000  77.200000  120.166667  178.916667   \n",
       "\n",
       "         Half Min     25K Min     30K Min     35K Min     40K Min   Pace Min  \\\n",
       "0       64.583333   76.983333   93.016667  108.316667  122.883333   4.950000   \n",
       "1       64.583333   76.983333   93.016667  108.316667  123.233333   4.966667   \n",
       "...           ...         ...         ...         ...         ...        ...   \n",
       "26408  202.500000  246.166667  307.150000  366.116667  416.133333  16.816667   \n",
       "26409  188.266667  267.233333  337.216667  399.116667  461.383333  18.250000   \n",
       "\n",
       "         Time Min  \n",
       "0      129.616667  \n",
       "1      129.966667  \n",
       "...           ...  \n",
       "26408  440.733333  \n",
       "26409  478.233333  \n",
       "\n",
       "[26259 rows x 21 columns]"
      ]
     },
     "execution_count": 16,
     "metadata": {},
     "output_type": "execute_result"
    }
   ],
   "source": [
    "m3 = m2.drop(columns=['5K', '10K', '15K', '20K', 'Half', '25K', '30K', '35K', '40K', 'Pace', 'Time'])\n",
    "m3"
   ]
  },
  {
   "cell_type": "code",
   "execution_count": 17,
   "metadata": {},
   "outputs": [
    {
     "data": {
      "text/plain": [
       "Text(0.5, 1.0, '5K and Boston Marathon Finishing Times by Gender (min)')"
      ]
     },
     "execution_count": 17,
     "metadata": {},
     "output_type": "execute_result"
    },
    {
     "data": {
      "image/png": "[encoded data removed]",
      "text/plain": [
       "<Figure size 432x288 with 1 Axes>"
      ]
     },
     "metadata": {
      "needs_background": "light"
     },
     "output_type": "display_data"
    }
   ],
   "source": [
    "## Exploratory Data Analysis 2\n",
    "\n",
    "groups = m3.groupby(\"M/F\")\n",
    "for name, group in groups:\n",
    "    plt.plot(group[\"5K Min\"], group[\"Time Min\"], marker=\"o\", linestyle=\"\", label=name)\n",
    "plt.legend()\n",
    "plt.xlabel(\"5K Time (min)\")\n",
    "plt.ylabel(\"Boston Marathon Time (min)\")\n",
    "plt.title('5K and Boston Marathon Finishing Times by Gender (min)')"
   ]
  },
  {
   "cell_type": "code",
   "execution_count": 18,
   "metadata": {},
   "outputs": [
    {
     "data": {
      "text/plain": [
       "<Figure size 648x432 with 0 Axes>"
      ]
     },
     "metadata": {},
     "output_type": "display_data"
    },
    {
     "data": {
      "image/png": "[encoded data removed]",
      "text/plain": [
       "<Figure size 432x288 with 1 Axes>"
      ]
     },
     "metadata": {
      "needs_background": "light"
     },
     "output_type": "display_data"
    }
   ],
   "source": [
    "## Exploratory Data Analysis 3\n",
    "\n",
    "grouped = m3.groupby(['Country'])\n",
    "grouped.size().sort_values(ascending = False).head()\n",
    "countryarray = ['USA', 'CAN', 'GBR', 'MEX', 'CHN']\n",
    "\n",
    "fivecountries = m3[m3['Country'].isin(countryarray)]\n",
    "\n",
    "plt.figure(figsize=(9, 6))\n",
    "\n",
    "fivecountries.groupby(['M/F','Country']).size().unstack().plot(kind='bar',stacked=True)\n",
    "\n",
    "plt.xlabel(\"Gender\")\n",
    "plt.ylabel(\"Count of Finishers\")\n",
    "plt.title('2017 Boston Marathon Finishers from 5 Most Represented Countries')\n",
    "\n",
    "plt.show()"
   ]
  },
  {
   "cell_type": "code",
   "execution_count": 19,
   "metadata": {},
   "outputs": [
    {
     "data": {
      "text/html": [
       "<div>\n",
       "<style scoped>\n",
       "    .dataframe tbody tr th:only-of-type {\n",
       "        vertical-align: middle;\n",
       "    }\n",
       "\n",
       "    .dataframe tbody tr th {\n",
       "        vertical-align: top;\n",
       "    }\n",
       "\n",
       "    .dataframe thead th {\n",
       "        text-align: right;\n",
       "    }\n",
       "</style>\n",
       "<table border=\"1\" class=\"dataframe\">\n",
       "  <thead>\n",
       "    <tr style=\"text-align: right;\">\n",
       "      <th></th>\n",
       "      <th>Bib</th>\n",
       "      <th>Name</th>\n",
       "      <th>Age</th>\n",
       "      <th>M/F</th>\n",
       "      <th>City</th>\n",
       "      <th>State</th>\n",
       "      <th>Country</th>\n",
       "      <th>Overall</th>\n",
       "      <th>Gender</th>\n",
       "      <th>Division</th>\n",
       "      <th>5K Min</th>\n",
       "      <th>10K Min</th>\n",
       "      <th>15K Min</th>\n",
       "      <th>20K Min</th>\n",
       "      <th>Half Min</th>\n",
       "      <th>25K Min</th>\n",
       "      <th>30K Min</th>\n",
       "      <th>35K Min</th>\n",
       "      <th>40K Min</th>\n",
       "      <th>Pace Min</th>\n",
       "      <th>Time Min</th>\n",
       "      <th>Predicted Time from Half</th>\n",
       "      <th>Predicted Time from Pace</th>\n",
       "    </tr>\n",
       "  </thead>\n",
       "  <tbody>\n",
       "    <tr>\n",
       "      <th>0</th>\n",
       "      <td>11</td>\n",
       "      <td>Kirui, Geoffrey</td>\n",
       "      <td>24</td>\n",
       "      <td>M</td>\n",
       "      <td>Keringet</td>\n",
       "      <td>NaN</td>\n",
       "      <td>KEN</td>\n",
       "      <td>1</td>\n",
       "      <td>1</td>\n",
       "      <td>1</td>\n",
       "      <td>15.416667</td>\n",
       "      <td>30.466667</td>\n",
       "      <td>45.733333</td>\n",
       "      <td>61.250000</td>\n",
       "      <td>64.583333</td>\n",
       "      <td>76.983333</td>\n",
       "      <td>93.016667</td>\n",
       "      <td>108.316667</td>\n",
       "      <td>122.883333</td>\n",
       "      <td>4.950000</td>\n",
       "      <td>129.616667</td>\n",
       "      <td>129.166667</td>\n",
       "      <td>129.690000</td>\n",
       "    </tr>\n",
       "    <tr>\n",
       "      <th>1</th>\n",
       "      <td>17</td>\n",
       "      <td>Rupp, Galen</td>\n",
       "      <td>30</td>\n",
       "      <td>M</td>\n",
       "      <td>Portland</td>\n",
       "      <td>OR</td>\n",
       "      <td>USA</td>\n",
       "      <td>2</td>\n",
       "      <td>2</td>\n",
       "      <td>2</td>\n",
       "      <td>15.400000</td>\n",
       "      <td>30.450000</td>\n",
       "      <td>45.733333</td>\n",
       "      <td>61.250000</td>\n",
       "      <td>64.583333</td>\n",
       "      <td>76.983333</td>\n",
       "      <td>93.016667</td>\n",
       "      <td>108.316667</td>\n",
       "      <td>123.233333</td>\n",
       "      <td>4.966667</td>\n",
       "      <td>129.966667</td>\n",
       "      <td>129.166667</td>\n",
       "      <td>130.126667</td>\n",
       "    </tr>\n",
       "    <tr>\n",
       "      <th>...</th>\n",
       "      <td>...</td>\n",
       "      <td>...</td>\n",
       "      <td>...</td>\n",
       "      <td>...</td>\n",
       "      <td>...</td>\n",
       "      <td>...</td>\n",
       "      <td>...</td>\n",
       "      <td>...</td>\n",
       "      <td>...</td>\n",
       "      <td>...</td>\n",
       "      <td>...</td>\n",
       "      <td>...</td>\n",
       "      <td>...</td>\n",
       "      <td>...</td>\n",
       "      <td>...</td>\n",
       "      <td>...</td>\n",
       "      <td>...</td>\n",
       "      <td>...</td>\n",
       "      <td>...</td>\n",
       "      <td>...</td>\n",
       "      <td>...</td>\n",
       "      <td>...</td>\n",
       "      <td>...</td>\n",
       "    </tr>\n",
       "    <tr>\n",
       "      <th>26408</th>\n",
       "      <td>25268</td>\n",
       "      <td>Reilly, Bill</td>\n",
       "      <td>64</td>\n",
       "      <td>M</td>\n",
       "      <td>New York</td>\n",
       "      <td>NY</td>\n",
       "      <td>USA</td>\n",
       "      <td>26410</td>\n",
       "      <td>14437</td>\n",
       "      <td>1043</td>\n",
       "      <td>40.566667</td>\n",
       "      <td>87.316667</td>\n",
       "      <td>137.283333</td>\n",
       "      <td>191.666667</td>\n",
       "      <td>202.500000</td>\n",
       "      <td>246.166667</td>\n",
       "      <td>307.150000</td>\n",
       "      <td>366.116667</td>\n",
       "      <td>416.133333</td>\n",
       "      <td>16.816667</td>\n",
       "      <td>440.733333</td>\n",
       "      <td>405.000000</td>\n",
       "      <td>440.596667</td>\n",
       "    </tr>\n",
       "    <tr>\n",
       "      <th>26409</th>\n",
       "      <td>25266</td>\n",
       "      <td>Rigsby, Scott</td>\n",
       "      <td>48</td>\n",
       "      <td>M</td>\n",
       "      <td>Alpharetta</td>\n",
       "      <td>GA</td>\n",
       "      <td>USA</td>\n",
       "      <td>26411</td>\n",
       "      <td>14438</td>\n",
       "      <td>2553</td>\n",
       "      <td>39.600000</td>\n",
       "      <td>77.200000</td>\n",
       "      <td>120.166667</td>\n",
       "      <td>178.916667</td>\n",
       "      <td>188.266667</td>\n",
       "      <td>267.233333</td>\n",
       "      <td>337.216667</td>\n",
       "      <td>399.116667</td>\n",
       "      <td>461.383333</td>\n",
       "      <td>18.250000</td>\n",
       "      <td>478.233333</td>\n",
       "      <td>376.533333</td>\n",
       "      <td>478.150000</td>\n",
       "    </tr>\n",
       "  </tbody>\n",
       "</table>\n",
       "<p>26259 rows × 23 columns</p>\n",
       "</div>"
      ],
      "text/plain": [
       "         Bib             Name  Age M/F        City State Country  Overall  \\\n",
       "0         11  Kirui, Geoffrey   24   M    Keringet   NaN     KEN        1   \n",
       "1         17      Rupp, Galen   30   M    Portland    OR     USA        2   \n",
       "...      ...              ...  ...  ..         ...   ...     ...      ...   \n",
       "26408  25268     Reilly, Bill   64   M    New York    NY     USA    26410   \n",
       "26409  25266    Rigsby, Scott   48   M  Alpharetta    GA     USA    26411   \n",
       "\n",
       "       Gender  Division     5K Min    10K Min     15K Min     20K Min  \\\n",
       "0           1         1  15.416667  30.466667   45.733333   61.250000   \n",
       "1           2         2  15.400000  30.450000   45.733333   61.250000   \n",
       "...       ...       ...        ...        ...         ...         ...   \n",
       "26408   14437      1043  40.566667  87.316667  137.283333  191.666667   \n",
       "26409   14438      2553  39.600000  77.200000  120.166667  178.916667   \n",
       "\n",
       "         Half Min     25K Min     30K Min     35K Min     40K Min   Pace Min  \\\n",
       "0       64.583333   76.983333   93.016667  108.316667  122.883333   4.950000   \n",
       "1       64.583333   76.983333   93.016667  108.316667  123.233333   4.966667   \n",
       "...           ...         ...         ...         ...         ...        ...   \n",
       "26408  202.500000  246.166667  307.150000  366.116667  416.133333  16.816667   \n",
       "26409  188.266667  267.233333  337.216667  399.116667  461.383333  18.250000   \n",
       "\n",
       "         Time Min  Predicted Time from Half  Predicted Time from Pace  \n",
       "0      129.616667                129.166667                129.690000  \n",
       "1      129.966667                129.166667                130.126667  \n",
       "...           ...                       ...                       ...  \n",
       "26408  440.733333                405.000000                440.596667  \n",
       "26409  478.233333                376.533333                478.150000  \n",
       "\n",
       "[26259 rows x 23 columns]"
      ]
     },
     "execution_count": 19,
     "metadata": {},
     "output_type": "execute_result"
    }
   ],
   "source": [
    "## Creating new variables\n",
    "## Variable 1: Half x 2 variable for predicted marathon time\n",
    "## Variable 2: Pace x 26.2 for predicted marathon time\n",
    "\n",
    "m3['Predicted Time from Half']=m3['Half Min'].apply(lambda x: x*2)\n",
    "m3['Predicted Time from Pace']=m3['Pace Min'].apply(lambda x: x*26.2)\n",
    "m3"
   ]
  },
  {
   "cell_type": "code",
   "execution_count": 20,
   "metadata": {},
   "outputs": [],
   "source": [
    "## Data frame to split into train and test data sets.\n",
    "x = m3[['5K Min', 'Half Min', 'Division', 'Pace Min', 'Time Min']]\n",
    "y = m3['M/F']"
   ]
  },
  {
   "cell_type": "code",
   "execution_count": 21,
   "metadata": {},
   "outputs": [],
   "source": [
    "x_train, x_test, y_train, y_test = train_test_split(x, y, test_size=0.2, random_state=8)"
   ]
  },
  {
   "cell_type": "code",
   "execution_count": 64,
   "metadata": {},
   "outputs": [
    {
     "data": {
      "text/plain": [
       "array([0, 0, 0, ..., 0, 1, 1])"
      ]
     },
     "execution_count": 64,
     "metadata": {},
     "output_type": "execute_result"
    }
   ],
   "source": [
    "le = preprocessing.LabelEncoder()\n",
    "encodedtrain = le.fit_transform(y_train)\n",
    "le.transform(['M', 'M', 'F'])\n",
    "encodedtrain"
   ]
  },
  {
   "cell_type": "code",
   "execution_count": 65,
   "metadata": {},
   "outputs": [
    {
     "data": {
      "text/plain": [
       "array([0, 0, 1, ..., 0, 0, 1])"
      ]
     },
     "execution_count": 65,
     "metadata": {},
     "output_type": "execute_result"
    }
   ],
   "source": [
    "le = preprocessing.LabelEncoder()\n",
    "encodedtest = le.fit_transform(y_test)\n",
    "le.transform(['M', 'M', 'F'])\n",
    "encodedtest"
   ]
  },
  {
   "cell_type": "code",
   "execution_count": 66,
   "metadata": {},
   "outputs": [],
   "source": [
    "lr = LogisticRegression(solver='liblinear', C=15, penalty='l1', multi_class='auto', max_iter=100)"
   ]
  },
  {
   "cell_type": "code",
   "execution_count": 67,
   "metadata": {},
   "outputs": [
    {
     "data": {
      "text/plain": [
       "LogisticRegression(C=15, penalty='l1', solver='liblinear')"
      ]
     },
     "execution_count": 67,
     "metadata": {},
     "output_type": "execute_result"
    }
   ],
   "source": [
    "lr.fit(x_train, encodedtrain)"
   ]
  },
  {
   "cell_type": "code",
   "execution_count": 70,
   "metadata": {},
   "outputs": [
    {
     "data": {
      "text/plain": [
       "0.7211955648401093"
      ]
     },
     "execution_count": 70,
     "metadata": {},
     "output_type": "execute_result"
    }
   ],
   "source": [
    "preds = lr.predict(x_test)\n",
    "(preds == encodedtest).sum() / len(encodedtest)\n",
    "f1_score(encodedtest, preds)"
   ]
  },
  {
   "cell_type": "code",
   "execution_count": 36,
   "metadata": {},
   "outputs": [
    {
     "name": "stdout",
     "output_type": "stream",
     "text": [
      "{'C': [0.001, 0.01, 1, 5, 10], 'penalty': ['none', 'l2'], 'solver': ['sag', 'saga', 'liblinear'], 'multi_class': ['auto', 'ovr', 'multinomial']}\n"
     ]
    }
   ],
   "source": [
    "penalty = ['none', 'l2']\n",
    "C = [.001, .01, 1, 5, 10]\n",
    "solver = ['sag', 'saga', 'liblinear']\n",
    "multi_class = ['auto', 'ovr', 'multinomial']\n",
    "\n",
    "hyperparameters = dict(C=C, penalty=penalty, solver=solver, multi_class=multi_class) \n",
    "print(hyperparameters)"
   ]
  },
  {
   "cell_type": "code",
   "execution_count": 37,
   "metadata": {},
   "outputs": [
    {
     "name": "stdout",
     "output_type": "stream",
     "text": [
      "Fitting 5 folds for each of 90 candidates, totalling 450 fits\n"
     ]
    },
    {
     "name": "stderr",
     "output_type": "stream",
     "text": [
      "[Parallel(n_jobs=1)]: Using backend SequentialBackend with 1 concurrent workers.\n",
      "[Parallel(n_jobs=1)]: Done 450 out of 450 | elapsed:   50.9s finished\n"
     ]
    }
   ],
   "source": [
    "gridsearch = GridSearchCV(lr, hyperparameters, cv=5, verbose=1, error_score=np.nan)\n",
    "best_model = gridsearch.fit(x_train, encodedtrain)"
   ]
  },
  {
   "cell_type": "code",
   "execution_count": 38,
   "metadata": {},
   "outputs": [
    {
     "name": "stdout",
     "output_type": "stream",
     "text": [
      "Best Penalty: l2\n",
      "Best C: 1\n",
      "Best solver: liblinear\n",
      "Best multi_class: auto\n",
      "The mean accuracy of the model is: 0.6688722806683487\n",
      "LogisticRegression(C=1, solver='liblinear')\n"
     ]
    }
   ],
   "source": [
    "print('Best Penalty:', best_model.best_estimator_.get_params()['penalty']) \n",
    "print('Best C:', best_model.best_estimator_.get_params()['C'])\n",
    "print('Best solver:', best_model.best_estimator_.get_params()['solver'])\n",
    "print('Best multi_class:', best_model.best_estimator_.get_params()['multi_class'])\n",
    "print(\"The mean accuracy of the model is:\",best_model.score(x_train, encoded))\n",
    "print(best_model.best_estimator_)"
   ]
  },
  {
   "cell_type": "code",
   "execution_count": 51,
   "metadata": {},
   "outputs": [
    {
     "data": {
      "text/plain": [
       "0.9242289178106614"
      ]
     },
     "execution_count": 51,
     "metadata": {},
     "output_type": "execute_result"
    }
   ],
   "source": [
    "neigh = KNeighborsClassifier(n_neighbors=15, p=1, n_jobs=1)\n",
    "neigh.fit(x_train, encodedtrain)\n",
    "predictions = neigh.predict(x_test)\n",
    "f1_score(encodedtest, predictions)"
   ]
  },
  {
   "cell_type": "code",
   "execution_count": 46,
   "metadata": {},
   "outputs": [
    {
     "name": "stderr",
     "output_type": "stream",
     "text": [
      "[Parallel(n_jobs=1)]: Using backend SequentialBackend with 1 concurrent workers.\n",
      "[Parallel(n_jobs=1)]: Done 100 out of 100 | elapsed:    2.1s finished\n"
     ]
    },
    {
     "data": {
      "text/plain": [
       "RandomForestClassifier(max_depth=20, max_features='log2', min_samples_split=15,\n",
       "                       random_state=8, verbose=1)"
      ]
     },
     "execution_count": 46,
     "metadata": {},
     "output_type": "execute_result"
    }
   ],
   "source": [
    "clf = RandomForestClassifier(max_depth=20, random_state=8, min_samples_split=15, max_features='log2', verbose=1)\n",
    "clf.fit(x_train, encodedtrain)"
   ]
  },
  {
   "cell_type": "code",
   "execution_count": 47,
   "metadata": {},
   "outputs": [
    {
     "name": "stderr",
     "output_type": "stream",
     "text": [
      "[Parallel(n_jobs=1)]: Using backend SequentialBackend with 1 concurrent workers.\n",
      "[Parallel(n_jobs=1)]: Done 100 out of 100 | elapsed:    0.1s finished\n"
     ]
    },
    {
     "data": {
      "text/plain": [
       "array([0, 1, 1, ..., 0, 0, 1])"
      ]
     },
     "execution_count": 47,
     "metadata": {},
     "output_type": "execute_result"
    }
   ],
   "source": [
    "preds3 = clf.predict(x_test)\n",
    "preds3"
   ]
  },
  {
   "cell_type": "code",
   "execution_count": 48,
   "metadata": {},
   "outputs": [
    {
     "data": {
      "text/plain": [
       "0.9183088498745968"
      ]
     },
     "execution_count": 48,
     "metadata": {},
     "output_type": "execute_result"
    }
   ],
   "source": [
    "f1_score(encodedtest, preds3)"
   ]
  },
  {
   "cell_type": "code",
   "execution_count": 49,
   "metadata": {},
   "outputs": [
    {
     "name": "stdout",
     "output_type": "stream",
     "text": [
      "{'max_depth': ['10', '12', '15', '18', '20'], 'min_samples_split': ['7', '8', '9', '12'], 'max_features': ['auto', 'sqrt', 'log2']}\n"
     ]
    }
   ],
   "source": [
    "max_depth = ['10', '12', '15', '18', '20']\n",
    "min_samples_split = ['7', '8', '9', '12']\n",
    "max_features = ['auto', 'sqrt', 'log2']\n",
    "\n",
    "hyperparametersF = dict(max_depth=max_depth, min_samples_split=min_samples_split, max_features=max_features) \n",
    "print(hyperparametersF)"
   ]
  },
  {
   "cell_type": "code",
   "execution_count": null,
   "metadata": {},
   "outputs": [],
   "source": []
  }
 ],
 "metadata": {
  "kernelspec": {
   "display_name": "Python 3",
   "language": "python",
   "name": "python3"
  },
  "language_info": {
   "codemirror_mode": {
    "name": "ipython",
    "version": 3
   },
   "file_extension": ".py",
   "mimetype": "text/x-python",
   "name": "python",
   "nbconvert_exporter": "python",
   "pygments_lexer": "ipython3",
   "version": "3.8.5"
  }
 },
 "nbformat": 4,
 "nbformat_minor": 2
}
